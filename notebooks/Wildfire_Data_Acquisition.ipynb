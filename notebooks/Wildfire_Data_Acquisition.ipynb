{
  "nbformat": 4,
  "nbformat_minor": 0,
  "metadata": {
    "colab": {
      "provenance": []
    },
    "kernelspec": {
      "name": "python3",
      "display_name": "Python 3"
    },
    "language_info": {
      "name": "python"
    }
  },
  "cells": [
    {
      "cell_type": "code",
      "execution_count": 1,
      "metadata": {
        "colab": {
          "base_uri": "https://localhost:8080/"
        },
        "id": "zOASLe18mGqO",
        "outputId": "e54a505d-e29e-4f28-969a-923fdb583d69"
      },
      "outputs": [
        {
          "output_type": "stream",
          "name": "stdout",
          "text": [
            "Drive already mounted at /content/drive; to attempt to forcibly remount, call drive.mount(\"/content/drive\", force_remount=True).\n"
          ]
        }
      ],
      "source": [
        "from google.colab import drive\n",
        "drive.mount('/content/drive')"
      ]
    },
    {
      "cell_type": "code",
      "source": [
        "import sys\n",
        "from tqdm import tqdm\n",
        "sys.path.append('/content/drive/MyDrive/DATA_512_HW_3/wildfire')"
      ],
      "metadata": {
        "id": "0xlyKDWY1BO1"
      },
      "execution_count": 2,
      "outputs": []
    },
    {
      "cell_type": "code",
      "source": [
        "#\n",
        "#    IMPORTS\n",
        "#\n",
        "\n",
        "#    Import some standard python modules\n",
        "import os, json, time\n",
        "#\n",
        "#    The module pyproj is a standard module that can be installed using pip or your other favorite\n",
        "#    installation tool. This module provides tools to convert between different geodesic coordinate systems\n",
        "#    and for calculating distances between points (coordinates) in a specific geodesic system.\n",
        "#\n",
        "from pyproj import Transformer, Geod\n",
        "#\n",
        "#    The 'wildfire' module is a user module. This module is available from the course website. The module\n",
        "#    includes one object, a Reader, that can be used to read the GeoJSON files associated with the\n",
        "#    wildefire dataset. The module also contains a sample datafile that is GeoJSON compliant and that\n",
        "#    contains a small number of California wildfires extracted from the main wildfire dataset.\n",
        "#\n",
        "\n",
        "from Reader import Reader as WFReader\n"
      ],
      "metadata": {
        "id": "Sy-FprNYq6qp"
      },
      "execution_count": 3,
      "outputs": []
    },
    {
      "cell_type": "code",
      "source": [
        "SAMPLE_DATA_FILENAME = '/content/drive/MyDrive/DATA_512_HW_3/USGS_Wildland_Fire_Combined_Dataset.json'"
      ],
      "metadata": {
        "id": "VdR2s_MB1KMQ"
      },
      "execution_count": 4,
      "outputs": []
    },
    {
      "cell_type": "code",
      "source": [
        "#\n",
        "#    This bit of code opens a new wildfire reader, gets the header information and prints it to the screen\n",
        "#\n",
        "print(f\"Attempting to open '{SAMPLE_DATA_FILENAME}' with wildfire.Reader() object\")\n",
        "wfreader = WFReader(SAMPLE_DATA_FILENAME)\n",
        "print()\n",
        "#\n",
        "#    Now print the header - it contains some useful information\n",
        "#\n",
        "header_dict = wfreader.header()\n",
        "header_keys = list(header_dict.keys())\n",
        "print(\"The header has the following keys:\")\n",
        "print(header_keys)\n",
        "print()\n",
        "print(\"Header Dictionary\")\n",
        "print(json.dumps(header_dict,indent=4))"
      ],
      "metadata": {
        "colab": {
          "base_uri": "https://localhost:8080/"
        },
        "id": "aVLQsHVs1Ou2",
        "outputId": "ca4cdbba-89c3-40cd-8b1e-d3930d4f3aed"
      },
      "execution_count": 5,
      "outputs": [
        {
          "output_type": "stream",
          "name": "stdout",
          "text": [
            "Attempting to open '/content/drive/MyDrive/USGS_Wildland_Fire_Combined_Dataset.json' with wildfire.Reader() object\n",
            "\n",
            "The header has the following keys:\n",
            "['displayFieldName', 'fieldAliases', 'geometryType', 'spatialReference', 'fields']\n",
            "\n",
            "Header Dictionary\n",
            "{\n",
            "    \"displayFieldName\": \"\",\n",
            "    \"fieldAliases\": {\n",
            "        \"OBJECTID\": \"OBJECTID\",\n",
            "        \"USGS_Assigned_ID\": \"USGS Assigned ID\",\n",
            "        \"Assigned_Fire_Type\": \"Assigned Fire Type\",\n",
            "        \"Fire_Year\": \"Fire Year\",\n",
            "        \"Fire_Polygon_Tier\": \"Fire Polygon Tier\",\n",
            "        \"Fire_Attribute_Tiers\": \"Fire Attribute Tiers\",\n",
            "        \"GIS_Acres\": \"GIS_Acres\",\n",
            "        \"GIS_Hectares\": \"GIS_Hectares\",\n",
            "        \"Source_Datasets\": \"Source Datasets\",\n",
            "        \"Listed_Fire_Types\": \"Listed Fire Types\",\n",
            "        \"Listed_Fire_Names\": \"Listed Fire Names\",\n",
            "        \"Listed_Fire_Codes\": \"Listed Fire Codes\",\n",
            "        \"Listed_Fire_IDs\": \"Listed Fire IDs\",\n",
            "        \"Listed_Fire_IRWIN_IDs\": \"Listed Fire IRWIN IDs\",\n",
            "        \"Listed_Fire_Dates\": \"Listed Fire Dates\",\n",
            "        \"Listed_Fire_Causes\": \"Listed Fire Causes\",\n",
            "        \"Listed_Fire_Cause_Class\": \"Listed Fire Cause Class\",\n",
            "        \"Listed_Rx_Reported_Acres\": \"Listed Rx Reported Acres\",\n",
            "        \"Listed_Map_Digitize_Methods\": \"Listed Map Digitize Methods\",\n",
            "        \"Listed_Notes\": \"Listed Notes\",\n",
            "        \"Processing_Notes\": \"Processing Notes\",\n",
            "        \"Wildfire_Notice\": \"Wildfire Notice\",\n",
            "        \"Prescribed_Burn_Notice\": \"Prescribed Burn Notice\",\n",
            "        \"Wildfire_and_Rx_Flag\": \"Wildfire and Rx Flag\",\n",
            "        \"Overlap_Within_1_or_2_Flag\": \"Overlap Within 1 or 2 Years Flag\",\n",
            "        \"Circleness_Scale\": \"Circleness Scale\",\n",
            "        \"Circle_Flag\": \"Circle Flag\",\n",
            "        \"Exclude_From_Summary_Rasters\": \"Exclude From Summary Rasters\",\n",
            "        \"Shape_Length\": \"Shape_Length\",\n",
            "        \"Shape_Area\": \"Shape_Area\"\n",
            "    },\n",
            "    \"geometryType\": \"esriGeometryPolygon\",\n",
            "    \"spatialReference\": {\n",
            "        \"wkid\": 102008,\n",
            "        \"latestWkid\": 102008\n",
            "    },\n",
            "    \"fields\": [\n",
            "        {\n",
            "            \"name\": \"OBJECTID\",\n",
            "            \"type\": \"esriFieldTypeOID\",\n",
            "            \"alias\": \"OBJECTID\"\n",
            "        },\n",
            "        {\n",
            "            \"name\": \"USGS_Assigned_ID\",\n",
            "            \"type\": \"esriFieldTypeInteger\",\n",
            "            \"alias\": \"USGS Assigned ID\"\n",
            "        },\n",
            "        {\n",
            "            \"name\": \"Assigned_Fire_Type\",\n",
            "            \"type\": \"esriFieldTypeString\",\n",
            "            \"alias\": \"Assigned Fire Type\",\n",
            "            \"length\": 100\n",
            "        },\n",
            "        {\n",
            "            \"name\": \"Fire_Year\",\n",
            "            \"type\": \"esriFieldTypeSmallInteger\",\n",
            "            \"alias\": \"Fire Year\"\n",
            "        },\n",
            "        {\n",
            "            \"name\": \"Fire_Polygon_Tier\",\n",
            "            \"type\": \"esriFieldTypeSmallInteger\",\n",
            "            \"alias\": \"Fire Polygon Tier\"\n",
            "        },\n",
            "        {\n",
            "            \"name\": \"Fire_Attribute_Tiers\",\n",
            "            \"type\": \"esriFieldTypeString\",\n",
            "            \"alias\": \"Fire Attribute Tiers\",\n",
            "            \"length\": 30000\n",
            "        },\n",
            "        {\n",
            "            \"name\": \"GIS_Acres\",\n",
            "            \"type\": \"esriFieldTypeDouble\",\n",
            "            \"alias\": \"GIS_Acres\"\n",
            "        },\n",
            "        {\n",
            "            \"name\": \"GIS_Hectares\",\n",
            "            \"type\": \"esriFieldTypeDouble\",\n",
            "            \"alias\": \"GIS_Hectares\"\n",
            "        },\n",
            "        {\n",
            "            \"name\": \"Source_Datasets\",\n",
            "            \"type\": \"esriFieldTypeString\",\n",
            "            \"alias\": \"Source Datasets\",\n",
            "            \"length\": 500000\n",
            "        },\n",
            "        {\n",
            "            \"name\": \"Listed_Fire_Types\",\n",
            "            \"type\": \"esriFieldTypeString\",\n",
            "            \"alias\": \"Listed Fire Types\",\n",
            "            \"length\": 100000\n",
            "        },\n",
            "        {\n",
            "            \"name\": \"Listed_Fire_Names\",\n",
            "            \"type\": \"esriFieldTypeString\",\n",
            "            \"alias\": \"Listed Fire Names\",\n",
            "            \"length\": 100000\n",
            "        },\n",
            "        {\n",
            "            \"name\": \"Listed_Fire_Codes\",\n",
            "            \"type\": \"esriFieldTypeString\",\n",
            "            \"alias\": \"Listed Fire Codes\",\n",
            "            \"length\": 100000\n",
            "        },\n",
            "        {\n",
            "            \"name\": \"Listed_Fire_IDs\",\n",
            "            \"type\": \"esriFieldTypeString\",\n",
            "            \"alias\": \"Listed Fire IDs\",\n",
            "            \"length\": 30000\n",
            "        },\n",
            "        {\n",
            "            \"name\": \"Listed_Fire_IRWIN_IDs\",\n",
            "            \"type\": \"esriFieldTypeString\",\n",
            "            \"alias\": \"Listed Fire IRWIN IDs\",\n",
            "            \"length\": 30000\n",
            "        },\n",
            "        {\n",
            "            \"name\": \"Listed_Fire_Dates\",\n",
            "            \"type\": \"esriFieldTypeString\",\n",
            "            \"alias\": \"Listed Fire Dates\",\n",
            "            \"length\": 500000\n",
            "        },\n",
            "        {\n",
            "            \"name\": \"Listed_Fire_Causes\",\n",
            "            \"type\": \"esriFieldTypeString\",\n",
            "            \"alias\": \"Listed Fire Causes\",\n",
            "            \"length\": 100000\n",
            "        },\n",
            "        {\n",
            "            \"name\": \"Listed_Fire_Cause_Class\",\n",
            "            \"type\": \"esriFieldTypeString\",\n",
            "            \"alias\": \"Listed Fire Cause Class\",\n",
            "            \"length\": 100000\n",
            "        },\n",
            "        {\n",
            "            \"name\": \"Listed_Rx_Reported_Acres\",\n",
            "            \"type\": \"esriFieldTypeString\",\n",
            "            \"alias\": \"Listed Rx Reported Acres\",\n",
            "            \"length\": 10000\n",
            "        },\n",
            "        {\n",
            "            \"name\": \"Listed_Map_Digitize_Methods\",\n",
            "            \"type\": \"esriFieldTypeString\",\n",
            "            \"alias\": \"Listed Map Digitize Methods\",\n",
            "            \"length\": 100000\n",
            "        },\n",
            "        {\n",
            "            \"name\": \"Listed_Notes\",\n",
            "            \"type\": \"esriFieldTypeString\",\n",
            "            \"alias\": \"Listed Notes\",\n",
            "            \"length\": 30000\n",
            "        },\n",
            "        {\n",
            "            \"name\": \"Processing_Notes\",\n",
            "            \"type\": \"esriFieldTypeString\",\n",
            "            \"alias\": \"Processing Notes\",\n",
            "            \"length\": 30000\n",
            "        },\n",
            "        {\n",
            "            \"name\": \"Wildfire_Notice\",\n",
            "            \"type\": \"esriFieldTypeString\",\n",
            "            \"alias\": \"Wildfire Notice\",\n",
            "            \"length\": 700\n",
            "        },\n",
            "        {\n",
            "            \"name\": \"Prescribed_Burn_Notice\",\n",
            "            \"type\": \"esriFieldTypeString\",\n",
            "            \"alias\": \"Prescribed Burn Notice\",\n",
            "            \"length\": 700\n",
            "        },\n",
            "        {\n",
            "            \"name\": \"Wildfire_and_Rx_Flag\",\n",
            "            \"type\": \"esriFieldTypeString\",\n",
            "            \"alias\": \"Wildfire and Rx Flag\",\n",
            "            \"length\": 1000\n",
            "        },\n",
            "        {\n",
            "            \"name\": \"Overlap_Within_1_or_2_Flag\",\n",
            "            \"type\": \"esriFieldTypeString\",\n",
            "            \"alias\": \"Overlap Within 1 or 2 Years Flag\",\n",
            "            \"length\": 8000\n",
            "        },\n",
            "        {\n",
            "            \"name\": \"Circleness_Scale\",\n",
            "            \"type\": \"esriFieldTypeDouble\",\n",
            "            \"alias\": \"Circleness Scale\"\n",
            "        },\n",
            "        {\n",
            "            \"name\": \"Circle_Flag\",\n",
            "            \"type\": \"esriFieldTypeSmallInteger\",\n",
            "            \"alias\": \"Circle Flag\"\n",
            "        },\n",
            "        {\n",
            "            \"name\": \"Exclude_From_Summary_Rasters\",\n",
            "            \"type\": \"esriFieldTypeString\",\n",
            "            \"alias\": \"Exclude From Summary Rasters\",\n",
            "            \"length\": 3\n",
            "        },\n",
            "        {\n",
            "            \"name\": \"Shape_Length\",\n",
            "            \"type\": \"esriFieldTypeDouble\",\n",
            "            \"alias\": \"Shape_Length\"\n",
            "        },\n",
            "        {\n",
            "            \"name\": \"Shape_Area\",\n",
            "            \"type\": \"esriFieldTypeDouble\",\n",
            "            \"alias\": \"Shape_Area\"\n",
            "        }\n",
            "    ]\n",
            "}\n"
          ]
        }
      ]
    },
    {
      "cell_type": "code",
      "source": [
        "#\n",
        "#    This sample code will load the whole sample file, or a small amount of the complete dataset.\n",
        "#\n",
        "#MAX_FEATURE_LOAD = 100\n",
        "feature_list = list()\n",
        "feature_count = 0\n",
        "# A rewind() on the reader object makes sure we're at the start of the feature list\n",
        "# This way, we can execute this cell multiple times and get the same result\n",
        "wfreader.rewind()\n",
        "# Now, read through each of the features, saving them as dictionaries into a list\n",
        "feature = wfreader.next()\n",
        "while feature:\n",
        "    feature_list.append(feature)\n",
        "    feature_count += 1\n",
        "    # if we're loading a lot of features, print progress\n",
        "    if (feature_count % 10000) == 0:\n",
        "        print(f\"Loaded {feature_count} features\")\n",
        "    # loaded the max we're allowed then break\n",
        "    # if feature_count >= MAX_FEATURE_LOAD:\n",
        "    #     break\n",
        "    feature = wfreader.next()\n",
        "#\n",
        "#    Print the number of items (features) we think we loaded\n",
        "print(f\"Loaded a total of {feature_count} features\")\n",
        "#\n",
        "#    Just a validation check - did all the items we loaded get into the list?\n",
        "print(f\"Variable 'feature_list' contains {len(feature_list)} features\")\n"
      ],
      "metadata": {
        "colab": {
          "base_uri": "https://localhost:8080/"
        },
        "id": "hQDwZM-f1RVw",
        "outputId": "1bf2ac53-e0ff-42b1-b4a9-d76025bb92c5"
      },
      "execution_count": 6,
      "outputs": [
        {
          "output_type": "stream",
          "name": "stdout",
          "text": [
            "Loaded 10000 features\n",
            "Loaded 20000 features\n",
            "Loaded 30000 features\n",
            "Loaded 40000 features\n",
            "Loaded 50000 features\n",
            "Loaded 60000 features\n",
            "Loaded 70000 features\n",
            "Loaded 80000 features\n",
            "Loaded 90000 features\n",
            "Loaded 100000 features\n",
            "Loaded 110000 features\n",
            "Loaded 120000 features\n",
            "Loaded 130000 features\n",
            "Loaded a total of 135061 features\n",
            "Variable 'feature_list' contains 135061 features\n"
          ]
        }
      ]
    },
    {
      "cell_type": "code",
      "source": [
        "#\n",
        "#    Every feature has a 'geometry' which specifies geo coordinates that make up each geographic thing\n",
        "#    In the case of the wildfire data, most wildfires are bounded shapes, circles, squares, etc. This is\n",
        "#    represented by shapes called 'rings' in GeoJSON.\n",
        "#\n",
        "# Get the geometry for the feature we pulled from the feature_list\n",
        "SLOT = 0\n",
        "wf_feature = feature_list[SLOT]\n",
        "wf_geometry = wf_feature['geometry']\n",
        "# The largest shape (ring) is supposed to be item zero in the list of 'rings'\n",
        "wf_bigest_ring = wf_geometry['rings'][0]\n",
        "\n",
        "print(f\"The largest ring of wf_feature['features'][{SLOT}]['rings'] consists of {len(wf_bigest_ring)} points.\")\n",
        ""
      ],
      "metadata": {
        "colab": {
          "base_uri": "https://localhost:8080/"
        },
        "id": "dBVZyBp33CKA",
        "outputId": "6cb05d17-0def-47c4-be28-9b4c19d790a9"
      },
      "execution_count": 9,
      "outputs": [
        {
          "output_type": "stream",
          "name": "stdout",
          "text": [
            "The largest ring of wf_feature['features'][0]['rings'] consists of 768 points.\n"
          ]
        }
      ]
    },
    {
      "cell_type": "code",
      "source": [
        "#\n",
        "#    Transform feature geometry data\n",
        "#\n",
        "#    The function takes one parameter, a list of ESRI:102008 coordinates that will be transformed to EPSG:4326\n",
        "#    The function returns a list of coordinates in EPSG:4326\n",
        "def convert_ring_to_epsg4326(ring_data=None):\n",
        "    converted_ring = list()\n",
        "    #\n",
        "    # We use a pyproj transformer that converts from ESRI:102008 to EPSG:4326 to transform the list of coordinates\n",
        "    to_epsg4326 = Transformer.from_crs(\"ESRI:102008\",\"EPSG:4326\")\n",
        "    # We'll run through the list transforming each ESRI:102008 x,y coordinate into a decimal degree lat,lon\n",
        "    for coord in ring_data:\n",
        "        lat,lon = to_epsg4326.transform(coord[0],coord[1])\n",
        "        new_coord = lat,lon\n",
        "        converted_ring.append(new_coord)\n",
        "    return converted_ring"
      ],
      "metadata": {
        "id": "e36vTPrx4YVF"
      },
      "execution_count": 10,
      "outputs": []
    },
    {
      "cell_type": "code",
      "source": [
        "\n",
        "#\n",
        "#   Convert one ring from the default to EPSG\n",
        "#\n",
        "#   There are two options here - depending upon whether you loaded data useing GeoJSON or the wildfire.Reader\n",
        "#\n",
        "#ring_in_epsg4326 = convert_ring_to_epsg4326(gj_bigest_ring)\n",
        "#\n",
        "ring_in_epsg4326 = convert_ring_to_epsg4326(wf_bigest_ring)\n",
        "#\n",
        "print(f\"Ring consists of {len(ring_in_epsg4326)} points.\")\n",
        "#\n",
        "#    If you want to print them out you can see what they look like converted.\n",
        "#print(ring_in_epsg4326)\n",
        "#for point in ring_in_epsg4326:\n",
        "#    print(f\"{point[0]},{point[1]}\")"
      ],
      "metadata": {
        "colab": {
          "base_uri": "https://localhost:8080/"
        },
        "id": "BdrH34JO4aos",
        "outputId": "03b851bf-1a4f-4cd4-ddc0-385444ced7d4"
      },
      "execution_count": 11,
      "outputs": [
        {
          "output_type": "stream",
          "name": "stdout",
          "text": [
            "Ring consists of 768 points.\n"
          ]
        }
      ]
    },
    {
      "cell_type": "markdown",
      "source": [
        "Incorporate information about my designated city, Yakima, Washington.\n",
        "\n"
      ],
      "metadata": {
        "id": "S2_km-gX2SuH"
      }
    },
    {
      "cell_type": "code",
      "source": [
        "\n",
        "CITY_LOCATIONS = {\n",
        "    'Yakima' :     {'city'   : 'Yakima',\n",
        "                       'latlon' : [46.6021, -120.5059] }\n",
        "}\n"
      ],
      "metadata": {
        "id": "rbPtUUWq4bwj"
      },
      "execution_count": 20,
      "outputs": []
    },
    {
      "cell_type": "code",
      "source": [
        "def average_distance_from_place_to_fire_perimeter(place=None,ring_data=None):\n",
        "    # convert the ring data to the right coordinate system\n",
        "    ring = convert_ring_to_epsg4326(ring_data)\n",
        "    # create a epsg4326 compliant object - which is what the WGS84 ellipsoid is\n",
        "    geodcalc = Geod(ellps='WGS84')\n",
        "    # create a list to store our results\n",
        "    distances_in_meters = list()\n",
        "    # run through each point in the converted ring data\n",
        "    for point in ring:\n",
        "        # calculate the distance\n",
        "        d = geodcalc.inv(place[1],place[0],point[1],point[0])\n",
        "        distances_in_meters.append(d[2])\n",
        "    #print(\"Got the following list:\",distances_in_meters)\n",
        "    # convert meters to miles\n",
        "    distances_in_miles = [meters*0.00062137 for meters in distances_in_meters]\n",
        "    # the esri polygon shape (the ring) requires that the first and last coordinates be identical to 'close the region\n",
        "    # we remove one of them so that we don't bias our average by having two of the same point\n",
        "    distances_in_miles_no_dup = distances_in_miles[1:]\n",
        "    # now, average miles\n",
        "    average = sum(distances_in_miles_no_dup)/len(distances_in_miles_no_dup)\n",
        "    return average"
      ],
      "metadata": {
        "id": "9kKFiGqNsPB-"
      },
      "execution_count": 21,
      "outputs": []
    },
    {
      "cell_type": "markdown",
      "source": [
        "Filtering criteria includes fires within a 1250-mile radius of Yakima and occurring after 1963. Smoke estimates are derived by dividing the product of the area burned and fire intensity by the fire's distance from Yakima, with intensity adjusted based on fire type."
      ],
      "metadata": {
        "id": "KnmK5xbL3C7j"
      }
    },
    {
      "cell_type": "code",
      "source": [
        "fire_intensity = dict()\n",
        "fire_intensity['Wildfire'] = 2\n",
        "fire_intensity['Likely Wildfire'] = 1.75\n",
        "fire_intensity['Unknown - Likely Wildfire'] = 1.5\n",
        "fire_intensity['Prescribed Fire'] = 1.25\n",
        "fire_intensity['Unknown - Likely Prescribed Fire'] = 1"
      ],
      "metadata": {
        "id": "qhioTvVBq-eB"
      },
      "execution_count": 22,
      "outputs": []
    },
    {
      "cell_type": "code",
      "source": [
        "place = CITY_LOCATIONS['Yakima']\n",
        "rel_fires = []\n",
        "for wf_feature in tqdm(feature_list):\n",
        "    #print(f\"{place['city']}\")\n",
        "    try:\n",
        "      wf_year = wf_feature['attributes']['Fire_Year']\n",
        "      wf_name = wf_feature['attributes']['Listed_Fire_Names'].split(',')[0]\n",
        "      wf_size = wf_feature['attributes']['GIS_Acres']\n",
        "      wf_type = wf_feature['attributes']['Assigned_Fire_Type']\n",
        "      ring_data = wf_feature['geometry']['rings'][0]\n",
        "    except:\n",
        "      print(\"Exception occurred, ring param was missing\")\n",
        "        #     Compute using the average distance to all points on the perimeter\n",
        "    if wf_year >= 1963:\n",
        "      distance = average_distance_from_place_to_fire_perimeter(place['latlon'],ring_data)\n",
        "      if distance < 1250:\n",
        "        ring = convert_ring_to_epsg4326(ring_data)\n",
        "        wf_feature['attributes']['distance'] = distance\n",
        "        smoke_estimate = (wf_size*fire_intensity[wf_type])/distance\n",
        "        wf_feature['attributes']['smoke_estimate'] = smoke_estimate\n",
        "        rel_fires.append(wf_feature['attributes'])"
      ],
      "metadata": {
        "colab": {
          "base_uri": "https://localhost:8080/"
        },
        "id": "2UpcyDrqrFt8",
        "outputId": "0eed2e6d-8657-4676-ce3c-9e3f3a69359d"
      },
      "execution_count": 23,
      "outputs": [
        {
          "output_type": "stream",
          "name": "stderr",
          "text": [
            " 81%|████████  | 109605/135061 [2:26:28<35:44, 11.87it/s]"
          ]
        },
        {
          "output_type": "stream",
          "name": "stdout",
          "text": [
            "Exception occurred, ring param was missing\n"
          ]
        },
        {
          "output_type": "stream",
          "name": "stderr",
          "text": [
            " 82%|████████▏ | 110224/135061 [2:27:26<32:01, 12.92it/s]"
          ]
        },
        {
          "output_type": "stream",
          "name": "stdout",
          "text": [
            "Exception occurred, ring param was missing\n"
          ]
        },
        {
          "output_type": "stream",
          "name": "stderr",
          "text": [
            " 82%|████████▏ | 110642/135061 [2:28:03<24:08, 16.86it/s]"
          ]
        },
        {
          "output_type": "stream",
          "name": "stdout",
          "text": [
            "Exception occurred, ring param was missing\n"
          ]
        },
        {
          "output_type": "stream",
          "name": "stderr",
          "text": [
            " 83%|████████▎ | 111431/135061 [2:29:16<37:44, 10.44it/s]"
          ]
        },
        {
          "output_type": "stream",
          "name": "stdout",
          "text": [
            "Exception occurred, ring param was missing\n"
          ]
        },
        {
          "output_type": "stream",
          "name": "stderr",
          "text": [
            " 83%|████████▎ | 111778/135061 [2:29:47<23:17, 16.66it/s]"
          ]
        },
        {
          "output_type": "stream",
          "name": "stdout",
          "text": [
            "Exception occurred, ring param was missing\n"
          ]
        },
        {
          "output_type": "stream",
          "name": "stderr",
          "text": [
            " 83%|████████▎ | 111898/135061 [2:29:55<25:17, 15.26it/s]"
          ]
        },
        {
          "output_type": "stream",
          "name": "stdout",
          "text": [
            "Exception occurred, ring param was missing\n"
          ]
        },
        {
          "output_type": "stream",
          "name": "stderr",
          "text": [
            " 83%|████████▎ | 112412/135061 [2:30:37<29:01, 13.00it/s]"
          ]
        },
        {
          "output_type": "stream",
          "name": "stdout",
          "text": [
            "Exception occurred, ring param was missing\n"
          ]
        },
        {
          "output_type": "stream",
          "name": "stderr",
          "text": [
            " 83%|████████▎ | 112416/135061 [2:30:38<35:01, 10.78it/s]"
          ]
        },
        {
          "output_type": "stream",
          "name": "stdout",
          "text": [
            "Exception occurred, ring param was missing\n"
          ]
        },
        {
          "output_type": "stream",
          "name": "stderr",
          "text": [
            " 84%|████████▍ | 113412/135061 [2:32:06<27:43, 13.01it/s]"
          ]
        },
        {
          "output_type": "stream",
          "name": "stdout",
          "text": [
            "Exception occurred, ring param was missing\n"
          ]
        },
        {
          "output_type": "stream",
          "name": "stderr",
          "text": [
            " 84%|████████▍ | 113667/135061 [2:32:29<28:14, 12.62it/s]"
          ]
        },
        {
          "output_type": "stream",
          "name": "stdout",
          "text": [
            "Exception occurred, ring param was missing\n"
          ]
        },
        {
          "output_type": "stream",
          "name": "stderr",
          "text": [
            " 84%|████████▍ | 113737/135061 [2:32:36<32:19, 10.99it/s]"
          ]
        },
        {
          "output_type": "stream",
          "name": "stdout",
          "text": [
            "Exception occurred, ring param was missing\n"
          ]
        },
        {
          "output_type": "stream",
          "name": "stderr",
          "text": [
            " 84%|████████▍ | 113766/135061 [2:32:39<38:50,  9.14it/s]"
          ]
        },
        {
          "output_type": "stream",
          "name": "stdout",
          "text": [
            "Exception occurred, ring param was missing\n"
          ]
        },
        {
          "output_type": "stream",
          "name": "stderr",
          "text": [
            " 84%|████████▍ | 113806/135061 [2:32:42<32:55, 10.76it/s]"
          ]
        },
        {
          "output_type": "stream",
          "name": "stdout",
          "text": [
            "Exception occurred, ring param was missing\n"
          ]
        },
        {
          "output_type": "stream",
          "name": "stderr",
          "text": [
            " 85%|████████▍ | 114309/135061 [2:33:29<43:18,  7.99it/s]"
          ]
        },
        {
          "output_type": "stream",
          "name": "stdout",
          "text": [
            "Exception occurred, ring param was missing\n"
          ]
        },
        {
          "output_type": "stream",
          "name": "stderr",
          "text": [
            " 85%|████████▍ | 114324/135061 [2:33:30<32:08, 10.75it/s]"
          ]
        },
        {
          "output_type": "stream",
          "name": "stdout",
          "text": [
            "Exception occurred, ring param was missing\n"
          ]
        },
        {
          "output_type": "stream",
          "name": "stderr",
          "text": [
            " 86%|████████▌ | 115630/135061 [2:35:22<19:16, 16.81it/s]"
          ]
        },
        {
          "output_type": "stream",
          "name": "stdout",
          "text": [
            "Exception occurred, ring param was missing\n"
          ]
        },
        {
          "output_type": "stream",
          "name": "stderr",
          "text": [
            " 86%|████████▌ | 115974/135061 [2:35:47<30:03, 10.58it/s]"
          ]
        },
        {
          "output_type": "stream",
          "name": "stdout",
          "text": [
            "Exception occurred, ring param was missing\n"
          ]
        },
        {
          "output_type": "stream",
          "name": "stderr",
          "text": [
            " 86%|████████▌ | 116236/135061 [2:36:09<27:54, 11.24it/s]"
          ]
        },
        {
          "output_type": "stream",
          "name": "stdout",
          "text": [
            "Exception occurred, ring param was missing\n"
          ]
        },
        {
          "output_type": "stream",
          "name": "stderr",
          "text": [
            " 87%|████████▋ | 117086/135061 [2:37:20<29:13, 10.25it/s]"
          ]
        },
        {
          "output_type": "stream",
          "name": "stdout",
          "text": [
            "Exception occurred, ring param was missing\n"
          ]
        },
        {
          "output_type": "stream",
          "name": "stderr",
          "text": [
            " 89%|████████▊ | 119583/135061 [2:40:53<21:46, 11.84it/s]"
          ]
        },
        {
          "output_type": "stream",
          "name": "stdout",
          "text": [
            "Exception occurred, ring param was missing\n"
          ]
        },
        {
          "output_type": "stream",
          "name": "stderr",
          "text": [
            " 89%|████████▊ | 119617/135061 [2:40:57<27:44,  9.28it/s]"
          ]
        },
        {
          "output_type": "stream",
          "name": "stdout",
          "text": [
            "Exception occurred, ring param was missing\n"
          ]
        },
        {
          "output_type": "stream",
          "name": "stderr",
          "text": [
            " 89%|████████▊ | 119752/135061 [2:41:08<21:03, 12.12it/s]"
          ]
        },
        {
          "output_type": "stream",
          "name": "stdout",
          "text": [
            "Exception occurred, ring param was missing\n"
          ]
        },
        {
          "output_type": "stream",
          "name": "stderr",
          "text": [
            " 89%|████████▉ | 119982/135061 [2:41:27<23:19, 10.77it/s]"
          ]
        },
        {
          "output_type": "stream",
          "name": "stdout",
          "text": [
            "Exception occurred, ring param was missing\n"
          ]
        },
        {
          "output_type": "stream",
          "name": "stderr",
          "text": [
            " 89%|████████▉ | 120213/135061 [2:41:46<15:46, 15.69it/s]"
          ]
        },
        {
          "output_type": "stream",
          "name": "stdout",
          "text": [
            "Exception occurred, ring param was missing\n"
          ]
        },
        {
          "output_type": "stream",
          "name": "stderr",
          "text": [
            " 89%|████████▉ | 120432/135061 [2:42:05<23:48, 10.24it/s]"
          ]
        },
        {
          "output_type": "stream",
          "name": "stdout",
          "text": [
            "Exception occurred, ring param was missing\n"
          ]
        },
        {
          "output_type": "stream",
          "name": "stderr",
          "text": [
            " 89%|████████▉ | 120679/135061 [2:42:24<17:20, 13.82it/s]"
          ]
        },
        {
          "output_type": "stream",
          "name": "stdout",
          "text": [
            "Exception occurred, ring param was missing\n"
          ]
        },
        {
          "output_type": "stream",
          "name": "stderr",
          "text": [
            " 89%|████████▉ | 120745/135061 [2:42:30<14:37, 16.32it/s]"
          ]
        },
        {
          "output_type": "stream",
          "name": "stdout",
          "text": [
            "Exception occurred, ring param was missing\n"
          ]
        },
        {
          "output_type": "stream",
          "name": "stderr",
          "text": [
            " 90%|████████▉ | 121010/135061 [2:42:51<20:13, 11.58it/s]"
          ]
        },
        {
          "output_type": "stream",
          "name": "stdout",
          "text": [
            "Exception occurred, ring param was missing\n"
          ]
        },
        {
          "output_type": "stream",
          "name": "stderr",
          "text": [
            " 91%|█████████ | 122265/135061 [2:44:37<14:18, 14.91it/s]"
          ]
        },
        {
          "output_type": "stream",
          "name": "stdout",
          "text": [
            "Exception occurred, ring param was missing\n"
          ]
        },
        {
          "output_type": "stream",
          "name": "stderr",
          "text": [
            " 91%|█████████ | 122532/135061 [2:44:59<15:01, 13.90it/s]"
          ]
        },
        {
          "output_type": "stream",
          "name": "stdout",
          "text": [
            "Exception occurred, ring param was missing\n"
          ]
        },
        {
          "output_type": "stream",
          "name": "stderr",
          "text": [
            " 92%|█████████▏| 123761/135061 [2:46:46<16:24, 11.48it/s]"
          ]
        },
        {
          "output_type": "stream",
          "name": "stdout",
          "text": [
            "Exception occurred, ring param was missing\n"
          ]
        },
        {
          "output_type": "stream",
          "name": "stderr",
          "text": [
            " 92%|█████████▏| 124537/135061 [2:47:52<14:29, 12.11it/s]"
          ]
        },
        {
          "output_type": "stream",
          "name": "stdout",
          "text": [
            "Exception occurred, ring param was missing\n"
          ]
        },
        {
          "output_type": "stream",
          "name": "stderr",
          "text": [
            " 93%|█████████▎| 125046/135061 [2:48:36<11:28, 14.55it/s]"
          ]
        },
        {
          "output_type": "stream",
          "name": "stdout",
          "text": [
            "Exception occurred, ring param was missing\n"
          ]
        },
        {
          "output_type": "stream",
          "name": "stderr",
          "text": [
            " 93%|█████████▎| 125746/135061 [2:49:30<19:12,  8.08it/s]"
          ]
        },
        {
          "output_type": "stream",
          "name": "stdout",
          "text": [
            "Exception occurred, ring param was missing\n"
          ]
        },
        {
          "output_type": "stream",
          "name": "stderr",
          "text": [
            " 94%|█████████▍| 127493/135061 [2:51:53<08:28, 14.88it/s]"
          ]
        },
        {
          "output_type": "stream",
          "name": "stdout",
          "text": [
            "Exception occurred, ring param was missing\n"
          ]
        },
        {
          "output_type": "stream",
          "name": "stderr",
          "text": [
            "100%|██████████| 135061/135061 [3:06:03<00:00, 12.10it/s]\n"
          ]
        }
      ]
    },
    {
      "cell_type": "code",
      "source": [
        "len(rel_fires)\n"
      ],
      "metadata": {
        "colab": {
          "base_uri": "https://localhost:8080/"
        },
        "id": "gxHGw9plvVrN",
        "outputId": "c2fef9ae-2276-468b-aae5-5e56bd081366"
      },
      "execution_count": 24,
      "outputs": [
        {
          "output_type": "execute_result",
          "data": {
            "text/plain": [
              "75450"
            ]
          },
          "metadata": {},
          "execution_count": 24
        }
      ]
    },
    {
      "cell_type": "markdown",
      "source": [
        "Storing the smoke estimate file in drive"
      ],
      "metadata": {
        "id": "9AgzyTMu3dU7"
      }
    },
    {
      "cell_type": "code",
      "source": [
        "int_json = open('/content/drive/MyDrive/DATA_512_HW_3/smoke_estimate_Yakima.json', \"w\")\n",
        "json.dump(rel_fires, int_json, indent = 4)\n",
        "int_json.close()"
      ],
      "metadata": {
        "id": "hpDdyCY35PR9"
      },
      "execution_count": 25,
      "outputs": []
    },
    {
      "cell_type": "code",
      "source": [
        "import pandas as pd\n",
        "df = pd.read_json('/content/drive/MyDrive/DATA_512_HW_3/smoke_estimate_Yakima.json')\n",
        "df.head()"
      ],
      "metadata": {
        "colab": {
          "base_uri": "https://localhost:8080/",
          "height": 342
        },
        "id": "r526IL-P50sb",
        "outputId": "9e40b6f8-af3e-465c-c067-133266081efc"
      },
      "execution_count": 26,
      "outputs": [
        {
          "output_type": "execute_result",
          "data": {
            "text/plain": [
              "   OBJECTID  USGS_Assigned_ID Assigned_Fire_Type  Fire_Year  \\\n",
              "0     14299             14299           Wildfire       1963   \n",
              "1     14300             14300           Wildfire       1963   \n",
              "2     14301             14301           Wildfire       1963   \n",
              "3     14302             14302           Wildfire       1963   \n",
              "4     14303             14303           Wildfire       1963   \n",
              "\n",
              "   Fire_Polygon_Tier  Fire_Attribute_Tiers     GIS_Acres  GIS_Hectares  \\\n",
              "0                  1          1 (1), 3 (3)  40992.458271  16589.059302   \n",
              "1                  1          1 (1), 3 (3)  25757.090203  10423.524591   \n",
              "2                  1  1 (5), 3 (15), 5 (1)  45527.210986  18424.208617   \n",
              "3                  1   1 (1), 3 (3), 5 (1)  10395.010334   4206.711433   \n",
              "4                  1          1 (1), 3 (3)   9983.605738   4040.221900   \n",
              "\n",
              "                                     Source_Datasets  \\\n",
              "0  Comb_National_NIFC_Interagency_Fire_Perimeter_...   \n",
              "1  Comb_National_NIFC_Interagency_Fire_Perimeter_...   \n",
              "2  Comb_National_NIFC_Interagency_Fire_Perimeter_...   \n",
              "3  Comb_National_NIFC_Interagency_Fire_Perimeter_...   \n",
              "4  Comb_National_NIFC_Interagency_Fire_Perimeter_...   \n",
              "\n",
              "                    Listed_Fire_Types  ...  \\\n",
              "0   Wildfire (1), Likely Wildfire (3)  ...   \n",
              "1   Wildfire (2), Likely Wildfire (2)  ...   \n",
              "2  Wildfire (6), Likely Wildfire (15)  ...   \n",
              "3   Wildfire (2), Likely Wildfire (3)  ...   \n",
              "4   Wildfire (1), Likely Wildfire (3)  ...   \n",
              "\n",
              "                              Prescribed_Burn_Notice Wildfire_and_Rx_Flag  \\\n",
              "0  Prescribed fire data in this dataset represent...                 None   \n",
              "1  Prescribed fire data in this dataset represent...                 None   \n",
              "2  Prescribed fire data in this dataset represent...                 None   \n",
              "3  Prescribed fire data in this dataset represent...                 None   \n",
              "4  Prescribed fire data in this dataset represent...                 None   \n",
              "\n",
              "  Overlap_Within_1_or_2_Flag Circleness_Scale Circle_Flag  \\\n",
              "0                       None         0.385355         NaN   \n",
              "1                       None         0.364815         NaN   \n",
              "2                       None         0.320927         NaN   \n",
              "3                       None         0.428936         NaN   \n",
              "4                       None         0.703178         NaN   \n",
              "\n",
              "  Exclude_From_Summary_Rasters  Shape_Length    Shape_Area    distance  \\\n",
              "0                           No  73550.428118  1.658906e+08  247.647882   \n",
              "1                           No  59920.576713  1.042352e+08  220.248108   \n",
              "2                           No  84936.827810  1.842421e+08  249.883106   \n",
              "3                           No  35105.903602  4.206711e+07  329.724046   \n",
              "4                           No  26870.456126  4.040222e+07  263.750993   \n",
              "\n",
              "  smoke_estimate  \n",
              "0     331.054381  \n",
              "1     233.891591  \n",
              "2     364.388067  \n",
              "3      63.052789  \n",
              "4      75.704782  \n",
              "\n",
              "[5 rows x 32 columns]"
            ],
            "text/html": [
              "\n",
              "  <div id=\"df-496bb494-3cba-4b48-b076-1dce394fccb2\" class=\"colab-df-container\">\n",
              "    <div>\n",
              "<style scoped>\n",
              "    .dataframe tbody tr th:only-of-type {\n",
              "        vertical-align: middle;\n",
              "    }\n",
              "\n",
              "    .dataframe tbody tr th {\n",
              "        vertical-align: top;\n",
              "    }\n",
              "\n",
              "    .dataframe thead th {\n",
              "        text-align: right;\n",
              "    }\n",
              "</style>\n",
              "<table border=\"1\" class=\"dataframe\">\n",
              "  <thead>\n",
              "    <tr style=\"text-align: right;\">\n",
              "      <th></th>\n",
              "      <th>OBJECTID</th>\n",
              "      <th>USGS_Assigned_ID</th>\n",
              "      <th>Assigned_Fire_Type</th>\n",
              "      <th>Fire_Year</th>\n",
              "      <th>Fire_Polygon_Tier</th>\n",
              "      <th>Fire_Attribute_Tiers</th>\n",
              "      <th>GIS_Acres</th>\n",
              "      <th>GIS_Hectares</th>\n",
              "      <th>Source_Datasets</th>\n",
              "      <th>Listed_Fire_Types</th>\n",
              "      <th>...</th>\n",
              "      <th>Prescribed_Burn_Notice</th>\n",
              "      <th>Wildfire_and_Rx_Flag</th>\n",
              "      <th>Overlap_Within_1_or_2_Flag</th>\n",
              "      <th>Circleness_Scale</th>\n",
              "      <th>Circle_Flag</th>\n",
              "      <th>Exclude_From_Summary_Rasters</th>\n",
              "      <th>Shape_Length</th>\n",
              "      <th>Shape_Area</th>\n",
              "      <th>distance</th>\n",
              "      <th>smoke_estimate</th>\n",
              "    </tr>\n",
              "  </thead>\n",
              "  <tbody>\n",
              "    <tr>\n",
              "      <th>0</th>\n",
              "      <td>14299</td>\n",
              "      <td>14299</td>\n",
              "      <td>Wildfire</td>\n",
              "      <td>1963</td>\n",
              "      <td>1</td>\n",
              "      <td>1 (1), 3 (3)</td>\n",
              "      <td>40992.458271</td>\n",
              "      <td>16589.059302</td>\n",
              "      <td>Comb_National_NIFC_Interagency_Fire_Perimeter_...</td>\n",
              "      <td>Wildfire (1), Likely Wildfire (3)</td>\n",
              "      <td>...</td>\n",
              "      <td>Prescribed fire data in this dataset represent...</td>\n",
              "      <td>None</td>\n",
              "      <td>None</td>\n",
              "      <td>0.385355</td>\n",
              "      <td>NaN</td>\n",
              "      <td>No</td>\n",
              "      <td>73550.428118</td>\n",
              "      <td>1.658906e+08</td>\n",
              "      <td>247.647882</td>\n",
              "      <td>331.054381</td>\n",
              "    </tr>\n",
              "    <tr>\n",
              "      <th>1</th>\n",
              "      <td>14300</td>\n",
              "      <td>14300</td>\n",
              "      <td>Wildfire</td>\n",
              "      <td>1963</td>\n",
              "      <td>1</td>\n",
              "      <td>1 (1), 3 (3)</td>\n",
              "      <td>25757.090203</td>\n",
              "      <td>10423.524591</td>\n",
              "      <td>Comb_National_NIFC_Interagency_Fire_Perimeter_...</td>\n",
              "      <td>Wildfire (2), Likely Wildfire (2)</td>\n",
              "      <td>...</td>\n",
              "      <td>Prescribed fire data in this dataset represent...</td>\n",
              "      <td>None</td>\n",
              "      <td>None</td>\n",
              "      <td>0.364815</td>\n",
              "      <td>NaN</td>\n",
              "      <td>No</td>\n",
              "      <td>59920.576713</td>\n",
              "      <td>1.042352e+08</td>\n",
              "      <td>220.248108</td>\n",
              "      <td>233.891591</td>\n",
              "    </tr>\n",
              "    <tr>\n",
              "      <th>2</th>\n",
              "      <td>14301</td>\n",
              "      <td>14301</td>\n",
              "      <td>Wildfire</td>\n",
              "      <td>1963</td>\n",
              "      <td>1</td>\n",
              "      <td>1 (5), 3 (15), 5 (1)</td>\n",
              "      <td>45527.210986</td>\n",
              "      <td>18424.208617</td>\n",
              "      <td>Comb_National_NIFC_Interagency_Fire_Perimeter_...</td>\n",
              "      <td>Wildfire (6), Likely Wildfire (15)</td>\n",
              "      <td>...</td>\n",
              "      <td>Prescribed fire data in this dataset represent...</td>\n",
              "      <td>None</td>\n",
              "      <td>None</td>\n",
              "      <td>0.320927</td>\n",
              "      <td>NaN</td>\n",
              "      <td>No</td>\n",
              "      <td>84936.827810</td>\n",
              "      <td>1.842421e+08</td>\n",
              "      <td>249.883106</td>\n",
              "      <td>364.388067</td>\n",
              "    </tr>\n",
              "    <tr>\n",
              "      <th>3</th>\n",
              "      <td>14302</td>\n",
              "      <td>14302</td>\n",
              "      <td>Wildfire</td>\n",
              "      <td>1963</td>\n",
              "      <td>1</td>\n",
              "      <td>1 (1), 3 (3), 5 (1)</td>\n",
              "      <td>10395.010334</td>\n",
              "      <td>4206.711433</td>\n",
              "      <td>Comb_National_NIFC_Interagency_Fire_Perimeter_...</td>\n",
              "      <td>Wildfire (2), Likely Wildfire (3)</td>\n",
              "      <td>...</td>\n",
              "      <td>Prescribed fire data in this dataset represent...</td>\n",
              "      <td>None</td>\n",
              "      <td>None</td>\n",
              "      <td>0.428936</td>\n",
              "      <td>NaN</td>\n",
              "      <td>No</td>\n",
              "      <td>35105.903602</td>\n",
              "      <td>4.206711e+07</td>\n",
              "      <td>329.724046</td>\n",
              "      <td>63.052789</td>\n",
              "    </tr>\n",
              "    <tr>\n",
              "      <th>4</th>\n",
              "      <td>14303</td>\n",
              "      <td>14303</td>\n",
              "      <td>Wildfire</td>\n",
              "      <td>1963</td>\n",
              "      <td>1</td>\n",
              "      <td>1 (1), 3 (3)</td>\n",
              "      <td>9983.605738</td>\n",
              "      <td>4040.221900</td>\n",
              "      <td>Comb_National_NIFC_Interagency_Fire_Perimeter_...</td>\n",
              "      <td>Wildfire (1), Likely Wildfire (3)</td>\n",
              "      <td>...</td>\n",
              "      <td>Prescribed fire data in this dataset represent...</td>\n",
              "      <td>None</td>\n",
              "      <td>None</td>\n",
              "      <td>0.703178</td>\n",
              "      <td>NaN</td>\n",
              "      <td>No</td>\n",
              "      <td>26870.456126</td>\n",
              "      <td>4.040222e+07</td>\n",
              "      <td>263.750993</td>\n",
              "      <td>75.704782</td>\n",
              "    </tr>\n",
              "  </tbody>\n",
              "</table>\n",
              "<p>5 rows × 32 columns</p>\n",
              "</div>\n",
              "    <div class=\"colab-df-buttons\">\n",
              "\n",
              "  <div class=\"colab-df-container\">\n",
              "    <button class=\"colab-df-convert\" onclick=\"convertToInteractive('df-496bb494-3cba-4b48-b076-1dce394fccb2')\"\n",
              "            title=\"Convert this dataframe to an interactive table.\"\n",
              "            style=\"display:none;\">\n",
              "\n",
              "  <svg xmlns=\"http://www.w3.org/2000/svg\" height=\"24px\" viewBox=\"0 -960 960 960\">\n",
              "    <path d=\"M120-120v-720h720v720H120Zm60-500h600v-160H180v160Zm220 220h160v-160H400v160Zm0 220h160v-160H400v160ZM180-400h160v-160H180v160Zm440 0h160v-160H620v160ZM180-180h160v-160H180v160Zm440 0h160v-160H620v160Z\"/>\n",
              "  </svg>\n",
              "    </button>\n",
              "\n",
              "  <style>\n",
              "    .colab-df-container {\n",
              "      display:flex;\n",
              "      gap: 12px;\n",
              "    }\n",
              "\n",
              "    .colab-df-convert {\n",
              "      background-color: #E8F0FE;\n",
              "      border: none;\n",
              "      border-radius: 50%;\n",
              "      cursor: pointer;\n",
              "      display: none;\n",
              "      fill: #1967D2;\n",
              "      height: 32px;\n",
              "      padding: 0 0 0 0;\n",
              "      width: 32px;\n",
              "    }\n",
              "\n",
              "    .colab-df-convert:hover {\n",
              "      background-color: #E2EBFA;\n",
              "      box-shadow: 0px 1px 2px rgba(60, 64, 67, 0.3), 0px 1px 3px 1px rgba(60, 64, 67, 0.15);\n",
              "      fill: #174EA6;\n",
              "    }\n",
              "\n",
              "    .colab-df-buttons div {\n",
              "      margin-bottom: 4px;\n",
              "    }\n",
              "\n",
              "    [theme=dark] .colab-df-convert {\n",
              "      background-color: #3B4455;\n",
              "      fill: #D2E3FC;\n",
              "    }\n",
              "\n",
              "    [theme=dark] .colab-df-convert:hover {\n",
              "      background-color: #434B5C;\n",
              "      box-shadow: 0px 1px 3px 1px rgba(0, 0, 0, 0.15);\n",
              "      filter: drop-shadow(0px 1px 2px rgba(0, 0, 0, 0.3));\n",
              "      fill: #FFFFFF;\n",
              "    }\n",
              "  </style>\n",
              "\n",
              "    <script>\n",
              "      const buttonEl =\n",
              "        document.querySelector('#df-496bb494-3cba-4b48-b076-1dce394fccb2 button.colab-df-convert');\n",
              "      buttonEl.style.display =\n",
              "        google.colab.kernel.accessAllowed ? 'block' : 'none';\n",
              "\n",
              "      async function convertToInteractive(key) {\n",
              "        const element = document.querySelector('#df-496bb494-3cba-4b48-b076-1dce394fccb2');\n",
              "        const dataTable =\n",
              "          await google.colab.kernel.invokeFunction('convertToInteractive',\n",
              "                                                    [key], {});\n",
              "        if (!dataTable) return;\n",
              "\n",
              "        const docLinkHtml = 'Like what you see? Visit the ' +\n",
              "          '<a target=\"_blank\" href=https://colab.research.google.com/notebooks/data_table.ipynb>data table notebook</a>'\n",
              "          + ' to learn more about interactive tables.';\n",
              "        element.innerHTML = '';\n",
              "        dataTable['output_type'] = 'display_data';\n",
              "        await google.colab.output.renderOutput(dataTable, element);\n",
              "        const docLink = document.createElement('div');\n",
              "        docLink.innerHTML = docLinkHtml;\n",
              "        element.appendChild(docLink);\n",
              "      }\n",
              "    </script>\n",
              "  </div>\n",
              "\n",
              "\n",
              "<div id=\"df-1a6126e3-d760-4315-a899-c9a099b69336\">\n",
              "  <button class=\"colab-df-quickchart\" onclick=\"quickchart('df-1a6126e3-d760-4315-a899-c9a099b69336')\"\n",
              "            title=\"Suggest charts\"\n",
              "            style=\"display:none;\">\n",
              "\n",
              "<svg xmlns=\"http://www.w3.org/2000/svg\" height=\"24px\"viewBox=\"0 0 24 24\"\n",
              "     width=\"24px\">\n",
              "    <g>\n",
              "        <path d=\"M19 3H5c-1.1 0-2 .9-2 2v14c0 1.1.9 2 2 2h14c1.1 0 2-.9 2-2V5c0-1.1-.9-2-2-2zM9 17H7v-7h2v7zm4 0h-2V7h2v10zm4 0h-2v-4h2v4z\"/>\n",
              "    </g>\n",
              "</svg>\n",
              "  </button>\n",
              "\n",
              "<style>\n",
              "  .colab-df-quickchart {\n",
              "      --bg-color: #E8F0FE;\n",
              "      --fill-color: #1967D2;\n",
              "      --hover-bg-color: #E2EBFA;\n",
              "      --hover-fill-color: #174EA6;\n",
              "      --disabled-fill-color: #AAA;\n",
              "      --disabled-bg-color: #DDD;\n",
              "  }\n",
              "\n",
              "  [theme=dark] .colab-df-quickchart {\n",
              "      --bg-color: #3B4455;\n",
              "      --fill-color: #D2E3FC;\n",
              "      --hover-bg-color: #434B5C;\n",
              "      --hover-fill-color: #FFFFFF;\n",
              "      --disabled-bg-color: #3B4455;\n",
              "      --disabled-fill-color: #666;\n",
              "  }\n",
              "\n",
              "  .colab-df-quickchart {\n",
              "    background-color: var(--bg-color);\n",
              "    border: none;\n",
              "    border-radius: 50%;\n",
              "    cursor: pointer;\n",
              "    display: none;\n",
              "    fill: var(--fill-color);\n",
              "    height: 32px;\n",
              "    padding: 0;\n",
              "    width: 32px;\n",
              "  }\n",
              "\n",
              "  .colab-df-quickchart:hover {\n",
              "    background-color: var(--hover-bg-color);\n",
              "    box-shadow: 0 1px 2px rgba(60, 64, 67, 0.3), 0 1px 3px 1px rgba(60, 64, 67, 0.15);\n",
              "    fill: var(--button-hover-fill-color);\n",
              "  }\n",
              "\n",
              "  .colab-df-quickchart-complete:disabled,\n",
              "  .colab-df-quickchart-complete:disabled:hover {\n",
              "    background-color: var(--disabled-bg-color);\n",
              "    fill: var(--disabled-fill-color);\n",
              "    box-shadow: none;\n",
              "  }\n",
              "\n",
              "  .colab-df-spinner {\n",
              "    border: 2px solid var(--fill-color);\n",
              "    border-color: transparent;\n",
              "    border-bottom-color: var(--fill-color);\n",
              "    animation:\n",
              "      spin 1s steps(1) infinite;\n",
              "  }\n",
              "\n",
              "  @keyframes spin {\n",
              "    0% {\n",
              "      border-color: transparent;\n",
              "      border-bottom-color: var(--fill-color);\n",
              "      border-left-color: var(--fill-color);\n",
              "    }\n",
              "    20% {\n",
              "      border-color: transparent;\n",
              "      border-left-color: var(--fill-color);\n",
              "      border-top-color: var(--fill-color);\n",
              "    }\n",
              "    30% {\n",
              "      border-color: transparent;\n",
              "      border-left-color: var(--fill-color);\n",
              "      border-top-color: var(--fill-color);\n",
              "      border-right-color: var(--fill-color);\n",
              "    }\n",
              "    40% {\n",
              "      border-color: transparent;\n",
              "      border-right-color: var(--fill-color);\n",
              "      border-top-color: var(--fill-color);\n",
              "    }\n",
              "    60% {\n",
              "      border-color: transparent;\n",
              "      border-right-color: var(--fill-color);\n",
              "    }\n",
              "    80% {\n",
              "      border-color: transparent;\n",
              "      border-right-color: var(--fill-color);\n",
              "      border-bottom-color: var(--fill-color);\n",
              "    }\n",
              "    90% {\n",
              "      border-color: transparent;\n",
              "      border-bottom-color: var(--fill-color);\n",
              "    }\n",
              "  }\n",
              "</style>\n",
              "\n",
              "  <script>\n",
              "    async function quickchart(key) {\n",
              "      const quickchartButtonEl =\n",
              "        document.querySelector('#' + key + ' button');\n",
              "      quickchartButtonEl.disabled = true;  // To prevent multiple clicks.\n",
              "      quickchartButtonEl.classList.add('colab-df-spinner');\n",
              "      try {\n",
              "        const charts = await google.colab.kernel.invokeFunction(\n",
              "            'suggestCharts', [key], {});\n",
              "      } catch (error) {\n",
              "        console.error('Error during call to suggestCharts:', error);\n",
              "      }\n",
              "      quickchartButtonEl.classList.remove('colab-df-spinner');\n",
              "      quickchartButtonEl.classList.add('colab-df-quickchart-complete');\n",
              "    }\n",
              "    (() => {\n",
              "      let quickchartButtonEl =\n",
              "        document.querySelector('#df-1a6126e3-d760-4315-a899-c9a099b69336 button');\n",
              "      quickchartButtonEl.style.display =\n",
              "        google.colab.kernel.accessAllowed ? 'block' : 'none';\n",
              "    })();\n",
              "  </script>\n",
              "</div>\n",
              "    </div>\n",
              "  </div>\n"
            ]
          },
          "metadata": {},
          "execution_count": 26
        }
      ]
    },
    {
      "cell_type": "code",
      "source": [],
      "metadata": {
        "id": "5LwzFC1ExWKx"
      },
      "execution_count": null,
      "outputs": []
    }
  ]
}